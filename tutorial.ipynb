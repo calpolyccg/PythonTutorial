{
 "cells": [
  {
   "attachments": {},
   "cell_type": "markdown",
   "metadata": {},
   "source": [
    "# Python Scripting and Data Processing Tutorial\n",
    "Python is a multi-purpose programming language that is useful for a wide variety of applications, in particular it has become very . \n",
    "One way to use Python in interactively in a Jupyter Notebook as we are using it here.\n",
    "Python is run through the Python interpreter, which takes and runs the code in the notebook cell by cell.\n",
    "To run a the current cell, press `shift+enter`.\n",
    "These examples are largely based on the [MOLSSI Python Tutorials](https://education.molssi.org/python_scripting_cms/01-introduction/index.html) created by Ashley Ringer-McDonald.\n",
    "\n",
    "## Variables and Data Types\n",
    "\n",
    "In Python variables store a values and are declared in the form:\n",
    "\n",
    "```Python\n",
    "variable_name = variable_value\n",
    "```\n",
    "\n",
    "The value is then saved to that variable name can then be referenced later.\n",
    "\n",
    "Variable values are categorized by data type, which describes what the variable is.\n",
    "In Python there are three basic data types integers, floats and booleans, which are sometimes called primitive types.\n",
    "- Integers are whole numbers without a decimal, and can be positive or negative, for example `x = -3`.\n",
    "- Floating point values or floats are numerical values with decimals, and can also be declared in scientific notation, ex: `T = 346.1` or `dH = 1.56e5` where the number following `e` is raised to the power of 10.\n",
    "- Booleans are the logical values `True` and `False`, and come into play more when discussing control flow.\n",
    "When declaring a variable in Python the data type can be specified with a \"type hint\", which indicates to users and the interpreter what data type the variable is.\n",
    "\n",
    "The syntax for a type signature is:\n",
    "\n",
    "```Python\n",
    "variable_name: variable_type = variable_value\n",
    "```\n",
    "\n",
    "These are not required, but help to make code more readable.\n",
    "\n",
    "### Using Variables\n",
    "\n",
    "The code cells below illustrate a few examples of using variables."
   ]
  },
  {
   "cell_type": "code",
   "execution_count": 1,
   "metadata": {},
   "outputs": [
    {
     "name": "stdout",
     "output_type": "stream",
     "text": [
      "541.0\n"
     ]
    }
   ],
   "source": [
    "deltaH: float = 5.415e2 # kJ/mol\n",
    "print(deltaH)"
   ]
  },
  {
   "attachments": {},
   "cell_type": "markdown",
   "metadata": {},
   "source": [
    "A few thinks to note about this cell: first, comments are denoted with `#`, and we can use the `print()` function to output information. Printing variables is often a useful was to understand what your code is doing.\n",
    "\n",
    "Next lets look at some calculations"
   ]
  },
  {
   "cell_type": "code",
   "execution_count": 2,
   "metadata": {},
   "outputs": [
    {
     "name": "stdout",
     "output_type": "stream",
     "text": [
      "-3640.7000000000003\n"
     ]
    }
   ],
   "source": [
    "deltaH: float = -541.5   #kJ/mole\n",
    "deltaS: float =  10.4     #kJ/(mole K)\n",
    "temp: int = 298      #Kelvin\n",
    "deltaG: float = deltaH - temp * deltaS\n",
    "\n",
    "print(deltaG)"
   ]
  },
  {
   "attachments": {},
   "cell_type": "markdown",
   "metadata": {},
   "source": [
    "In this cell we can see some math operations used, and the result assigned to the variable `deltaG`.\n",
    "An additional detail illustrates how data types work in Python.\n",
    "When `temp` is declared it is an integer, since it has not decimal point, but when it is used to calculate `deltaG` the result is a floating point value.\n",
    "This is because math operations can accept integers and floats interchangeably, and returns a floating point value.\n",
    "The next example illustrates this more directly."
   ]
  },
  {
   "cell_type": "code",
   "execution_count": 4,
   "metadata": {},
   "outputs": [
    {
     "name": "stdout",
     "output_type": "stream",
     "text": [
      "x is an <class 'float'>\n",
      "y is an <class 'int'>\n",
      "<class 'float'>\n"
     ]
    }
   ],
   "source": [
    "x: float = 1.1\n",
    "y: int = 2\n",
    "print(f\"x is an {type(x)}\")\n",
    "print(f\"y is an {type(y)}\")\n",
    "print(type(x * y))"
   ]
  },
  {
   "attachments": {},
   "cell_type": "markdown",
   "metadata": {},
   "source": [
    "The function `type()` returns the type of a variable, and as we can see multiplying an int with a float returns a float.\n",
    "\n",
    "Next lets look at a few more examples of variables behavior of  in python."
   ]
  },
  {
   "cell_type": "code",
   "execution_count": 5,
   "metadata": {},
   "outputs": [
    {
     "name": "stdout",
     "output_type": "stream",
     "text": [
      "-3640.7000000000003\n",
      "-3640.7000000000003\n"
     ]
    }
   ],
   "source": [
    "print(deltaG)\n",
    "deltaG * 1000\n",
    "print(deltaG)"
   ]
  },
  {
   "attachments": {},
   "cell_type": "markdown",
   "metadata": {},
   "source": [
    "This example illustrates two ideas:\n",
    "- variables persist between cell in a notebook\n",
    "- if the value of an operation is assigned a variable name the value does not change\n",
    "\n",
    "If we wanted to save the result of that calculation, we would have to overwrite the previous value of the variable"
   ]
  },
  {
   "cell_type": "code",
   "execution_count": null,
   "metadata": {},
   "outputs": [],
   "source": [
    "print(deltaG)\n",
    "deltaG = deltaG * 1000\n",
    "print(deltaG)"
   ]
  },
  {
   "attachments": {},
   "cell_type": "markdown",
   "metadata": {},
   "source": [
    "In most situations you may want both values, in that case create a new variable to store the value."
   ]
  },
  {
   "cell_type": "code",
   "execution_count": null,
   "metadata": {},
   "outputs": [],
   "source": [
    "print(deltaG)\n",
    "deltaG_joules = deltaG * 1000\n",
    "print(deltaG)\n",
    "print(deltaG_joules)"
   ]
  },
  {
   "attachments": {},
   "cell_type": "markdown",
   "metadata": {},
   "source": [
    "It is also possible to assign several variables at once, this is sometimes done for the sake of compactness."
   ]
  },
  {
   "cell_type": "code",
   "execution_count": null,
   "metadata": {},
   "outputs": [],
   "source": [
    "#I can assign all these variables at once\n",
    "deltaH, deltaS, temp = -541.5, 10.4, 298\n",
    "deltaG = deltaH - temp * deltaS\n",
    "print(deltaG)"
   ]
  },
  {
   "attachments": {},
   "cell_type": "markdown",
   "metadata": {},
   "source": [
    "### Composite Data Types\n",
    "\n",
    "We have previously discussed the primitive data types, which represent a single value.\n",
    "This is not the only kind of data type in Python, or in programming languages more generally.\n",
    "Beyond primitive types, there are composite types (also known as compound or complex types) which contain several primitive values in a singe variable.\n",
    "Since every other data type in Python is a composite type, it would not make sense to enumerate them all below.\n",
    "We'll go into two important ones, lists and strings, in the subsequent sections.\n",
    "\n",
    "### Lists\n",
    "\n"
   ]
  }
 ],
 "metadata": {
  "kernelspec": {
   "display_name": "tutorial",
   "language": "python",
   "name": "python3"
  },
  "language_info": {
   "codemirror_mode": {
    "name": "ipython",
    "version": 3
   },
   "file_extension": ".py",
   "mimetype": "text/x-python",
   "name": "python",
   "nbconvert_exporter": "python",
   "pygments_lexer": "ipython3",
   "version": "3.10.8"
  },
  "orig_nbformat": 4,
  "vscode": {
   "interpreter": {
    "hash": "254a929a8df0d09e1204fbf3643ee75d21f4deeca16e9665512a09f05f306737"
   }
  }
 },
 "nbformat": 4,
 "nbformat_minor": 2
}
